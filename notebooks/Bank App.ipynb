{
 "cells": [
  {
   "cell_type": "code",
   "execution_count": 21,
   "metadata": {},
   "outputs": [],
   "source": [
    "%load_ext autoreload\n",
    "%autoreload 2"
   ]
  },
  {
   "cell_type": "code",
   "execution_count": null,
   "metadata": {},
   "outputs": [],
   "source": [
    "from app import Bank"
   ]
  },
  {
   "cell_type": "code",
   "execution_count": null,
   "metadata": {},
   "outputs": [],
   "source": [
    "bank = Bank('DKB')"
   ]
  },
  {
   "cell_type": "code",
   "execution_count": null,
   "metadata": {},
   "outputs": [],
   "source": [
    "print(f'Bank: {bank.name}')\n",
    "print(f'Accounts: {bank.accounts}')\n",
    "print(f'Transactions: {bank.transactions}')"
   ]
  },
  {
   "cell_type": "code",
   "execution_count": 2,
   "metadata": {},
   "outputs": [],
   "source": [
    "from app import Transaction\n",
    "from app import Account\n",
    "\n",
    "account1= Account(number=1,\n",
    "                        firstname='Pol',\n",
    "                        lastname='Ehrenfest')\n",
    "account2 = Account(number=2,\n",
    "                        firstname='Paul',\n",
    "                        lastname='Ehrenfest')\n",
    "transaction = Transaction(sender=account1.number, recipient=account2.number, subject='blublu', amount=100.0)\n",
    "\n",
    "\n",
    "\n"
   ]
  },
  {
   "cell_type": "code",
   "execution_count": 22,
   "metadata": {},
   "outputs": [],
   "source": [
    "import unittest\n",
    "import app\n",
    "import math\n",
    "from datetime import datetime\n",
    "\n"
   ]
  },
  {
   "cell_type": "code",
   "execution_count": 33,
   "metadata": {},
   "outputs": [
    {
     "name": "stdout",
     "output_type": "stream",
     "text": [
      "0\n"
     ]
    }
   ],
   "source": [
    "bank = app.Bank('DKB')\n",
    "\n",
    "firstname = 'Rafael'\n",
    "lastname = 'Rodriguez'\n",
    "for idx in range(0, 100):\n",
    "    bank.open_account(app.Account(firstname=firstname + str(idx), lastname=lastname + str(idx), number=idx, balance=10000000.0))\n",
    "\n",
    "        # all transactions unkown\n",
    "for sender_index in range(0, 200):\n",
    "    recipient_index = sender_index + 1\n",
    "    sender_index = int(math.fmod(sender_index, len(bank.accounts)))\n",
    "    recipient_index = int(math.fmod(recipient_index, len(bank.accounts)))\n",
    "    transaction = bank.add_transaction(sender=bank.accounts[sender_index], recipient=bank.accounts[recipient_index],\n",
    "                                        subject='pocketmoney', amount=10 + sender_index/2)\n",
    "    transaction.transactionID = '201901' + datetime.now().strftime('%d%H%M%S')  # this month\n",
    "\n",
    "\n",
    "# all transactions sex\n",
    "for sender_index in range(0, 200):\n",
    "    recipient_index = sender_index + 1\n",
    "    sender_index = int(math.fmod(sender_index, len(bank.accounts)))\n",
    "    recipient_index = int(math.fmod(recipient_index, len(bank.accounts)))\n",
    "    transaction = bank.add_transaction(sender=bank.accounts[sender_index], recipient=bank.accounts[recipient_index],\n",
    "                                        subject='pocketmoney', amount=10 + sender_index/2,\n",
    "                                        category=app.TransactionCategory.SEX)\n",
    "    transaction.transactionID = '201901' + datetime.now().strftime('%d%H%M%S')  # this month\n",
    "    \n",
    "print(len(bank.get_drugs_transactions()))\n"
   ]
  },
  {
   "cell_type": "code",
   "execution_count": null,
   "metadata": {},
   "outputs": [],
   "source": []
  }
 ],
 "metadata": {
  "kernelspec": {
   "display_name": "Python 3",
   "language": "python",
   "name": "python3"
  },
  "language_info": {
   "codemirror_mode": {
    "name": "ipython",
    "version": 3
   },
   "file_extension": ".py",
   "mimetype": "text/x-python",
   "name": "python",
   "nbconvert_exporter": "python",
   "pygments_lexer": "ipython3",
   "version": "3.6.8"
  }
 },
 "nbformat": 4,
 "nbformat_minor": 2
}
